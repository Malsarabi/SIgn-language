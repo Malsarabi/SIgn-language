{
  "nbformat": 4,
  "nbformat_minor": 0,
  "metadata": {
    "colab": {
      "provenance": [],
      "machine_shape": "hm",
      "gpuType": "V28"
    },
    "kernelspec": {
      "name": "python3",
      "display_name": "Python 3"
    },
    "language_info": {
      "name": "python"
    },
    "accelerator": "TPU"
  },
  "cells": [
    {
      "cell_type": "code",
      "execution_count": null,
      "metadata": {
        "colab": {
          "base_uri": "https://localhost:8080/"
        },
        "id": "6JTgg9fusY8M",
        "outputId": "247e89d0-16e8-4ab2-c94a-b506aec60a3e"
      },
      "outputs": [
        {
          "output_type": "stream",
          "name": "stdout",
          "text": [
            "Mounted at /content/drive\n"
          ]
        }
      ],
      "source": [
        "from google.colab import drive\n",
        "drive.mount(\"/content/drive\", force_remount=True)\n",
        "data_t= !unzip '/content/drive/MyDrive/training/asl_alphabet_train.zip'"
      ]
    },
    {
      "cell_type": "code",
      "source": [
        "import numpy as np\n",
        "import os\n",
        "import cv2\n",
        "import matplotlib.pyplot as plt\n",
        "from PIL import Image\n",
        "import pickle"
      ],
      "metadata": {
        "id": "QhoqM8oKs80w"
      },
      "execution_count": null,
      "outputs": []
    },
    {
      "cell_type": "code",
      "source": [
        "\n",
        "DATA_DIR='/content/asl_alphabet_train/asl_alphabet_train'\n",
        "\n",
        "labels=[]\n",
        "imagg=[]\n",
        "for dir_ in os.listdir(DATA_DIR):\n",
        "    for img_path in os.listdir(os.path.join(DATA_DIR, dir_)):\n",
        "      img_ = os.path.join(DATA_DIR, dir_, img_path)\n",
        "      # load images to img as np array\n",
        "      img = cv2.imread(img_)\n",
        "      # img=Image.open(img_)\n",
        "      imagg.append(img)\n",
        "      classnum=os.listdir(DATA_DIR).index(dir_)\n",
        "\n",
        "      labels.append(classnum)\n",
        "\n",
        "\n",
        "#storing and maping the data and labels in numpy array\n",
        "np.save('_data',np.array(imagg))\n",
        "np.save('_labels',np.array(labels))\n",
        "\n",
        "#creating pickle file\n",
        "f = open('data.pickle', 'wb')\n",
        "pickle.dump({'data': imagg, 'labels': labels}, f)\n",
        "f.close()\n",
        "\n"
      ],
      "metadata": {
        "id": "qYI110P-vTjI"
      },
      "execution_count": null,
      "outputs": []
    },
    {
      "cell_type": "code",
      "source": [
        "\n",
        "data_dict = pickle.load(open('./data.pickle', 'rb'))\n",
        "data1 = np.asarray(data_dict['data'])\n",
        "labels1 = np.asarray(data_dict['labels'])\n",
        "\n"
      ],
      "metadata": {
        "id": "fZ7KZkaPyP56"
      },
      "execution_count": null,
      "outputs": []
    },
    {
      "cell_type": "code",
      "source": [
        "#to verify the images\n",
        "plt.imshow(data1[2250])\n",
        "print(labels1[2250])"
      ],
      "metadata": {
        "id": "37I34mQQeJgP"
      },
      "execution_count": null,
      "outputs": []
    },
    {
      "cell_type": "code",
      "source": [
        "from sklearn.model_selection import train_test_split\n"
      ],
      "metadata": {
        "id": "4W_no6LkeQS8"
      },
      "execution_count": null,
      "outputs": []
    },
    {
      "cell_type": "code",
      "source": [
        "#splitting the dataset\n",
        "x_train, x_test, y_train, y_test = train_test_split(data1, labels1, test_size=0.2, shuffle=True, stratify=labels)"
      ],
      "metadata": {
        "id": "x27v3648eRDU"
      },
      "execution_count": null,
      "outputs": []
    },
    {
      "cell_type": "code",
      "source": [
        "x_train, x_test=x_train / 255.0, x_test / 255.0"
      ],
      "metadata": {
        "id": "31M2WIDQbj0z"
      },
      "execution_count": null,
      "outputs": []
    },
    {
      "cell_type": "code",
      "source": [
        "from keras.utils import to_categorical"
      ],
      "metadata": {
        "id": "uj3H_L6Wq4CT"
      },
      "execution_count": null,
      "outputs": []
    },
    {
      "cell_type": "code",
      "source": [
        "x_train = tf.image.resize(x_train, (32, 32))\n",
        "x_test = tf.image.resize(x_test, (32, 32))"
      ],
      "metadata": {
        "id": "SV2QGAD3ktQu"
      },
      "execution_count": null,
      "outputs": []
    },
    {
      "cell_type": "code",
      "source": [],
      "metadata": {
        "id": "AyR6JK4UmseW"
      },
      "execution_count": null,
      "outputs": []
    },
    {
      "cell_type": "code",
      "source": [
        "import tensorflow as tf\n",
        "from tensorflow import keras\n",
        "from keras import datasets\n",
        "from keras import models\n",
        "from keras.models import Sequential\n",
        "from keras import layers\n"
      ],
      "metadata": {
        "id": "t6dZ4NiUehMs"
      },
      "execution_count": null,
      "outputs": []
    },
    {
      "cell_type": "code",
      "source": [
        "model = models.Sequential()\n",
        "model.add(layers.Conv2D(32, (3, 3), activation='relu', input_shape=(32, 32, 3)))\n",
        "model.add(layers.MaxPooling2D((2, 2)))\n",
        "model.add(layers.Conv2D(64, (3, 3), activation='relu'))\n",
        "model.add(layers.MaxPooling2D((2, 2)))\n",
        "\n",
        "model.add(layers.Conv2D(64, (3, 3), activation='relu'))\n",
        "model.add(layers.Flatten())\n",
        "model.add(layers.Dense(64, activation='relu'))\n",
        "model.add(layers.Dense(29))\n",
        "\n",
        "model.compile(optimizer='adam',\n",
        "             loss=tf.keras.losses.SparseCategoricalCrossentropy(from_logits=True),\n",
        "             metrics=['accuracy'])\n",
        "history = model.fit(x_train, y_train, epochs=10,\n",
        "                    validation_data=(x_test, y_test))"
      ],
      "metadata": {
        "id": "aI8qgCtGu9fr",
        "colab": {
          "base_uri": "https://localhost:8080/"
        },
        "outputId": "6a19860d-fbfc-4cf1-f18a-67abe1c89021"
      },
      "execution_count": null,
      "outputs": [
        {
          "output_type": "stream",
          "name": "stdout",
          "text": [
            "Epoch 1/10\n",
            "533/533 [==============================] - 6s 9ms/step - loss: 2.7118 - accuracy: 0.2662 - val_loss: 1.3849 - val_accuracy: 0.5579\n",
            "Epoch 2/10\n",
            "533/533 [==============================] - 5s 9ms/step - loss: 0.5624 - accuracy: 0.8097 - val_loss: 0.2630 - val_accuracy: 0.9159\n",
            "Epoch 3/10\n",
            "533/533 [==============================] - 5s 9ms/step - loss: 0.1610 - accuracy: 0.9448 - val_loss: 0.1117 - val_accuracy: 0.9615\n",
            "Epoch 4/10\n",
            "533/533 [==============================] - 5s 9ms/step - loss: 0.1034 - accuracy: 0.9652 - val_loss: 0.0507 - val_accuracy: 0.9871\n",
            "Epoch 5/10\n",
            "533/533 [==============================] - 5s 9ms/step - loss: 0.0870 - accuracy: 0.9716 - val_loss: 0.0971 - val_accuracy: 0.9669\n",
            "Epoch 6/10\n",
            "533/533 [==============================] - 5s 9ms/step - loss: 0.0892 - accuracy: 0.9708 - val_loss: 0.0692 - val_accuracy: 0.9782\n",
            "Epoch 7/10\n",
            "533/533 [==============================] - 5s 9ms/step - loss: 0.0738 - accuracy: 0.9780 - val_loss: 0.0183 - val_accuracy: 0.9939\n",
            "Epoch 8/10\n",
            "533/533 [==============================] - 5s 9ms/step - loss: 0.0440 - accuracy: 0.9868 - val_loss: 0.1240 - val_accuracy: 0.9638\n",
            "Epoch 9/10\n",
            "533/533 [==============================] - 4s 8ms/step - loss: 0.0616 - accuracy: 0.9817 - val_loss: 0.0862 - val_accuracy: 0.9704\n",
            "Epoch 10/10\n",
            "533/533 [==============================] - 4s 8ms/step - loss: 0.0401 - accuracy: 0.9878 - val_loss: 0.0537 - val_accuracy: 0.9810\n"
          ]
        }
      ]
    },
    {
      "cell_type": "code",
      "source": [
        "plt.figure(figsize=(8, 8))\n",
        "plt.plot(history.history['accuracy'], label='accuracy')\n",
        "plt.plot(history.history['val_accuracy'], label = 'val_accuracy')\n",
        "plt.xlabel('Epoch')\n",
        "plt.ylabel('Accuracy')\n",
        "plt.ylim([0.5, 1])\n",
        "plt.legend(loc='lower right')\n",
        "\n",
        "plt.savefig(\"output_report.png\")"
      ],
      "metadata": {
        "colab": {
          "base_uri": "https://localhost:8080/",
          "height": 701
        },
        "id": "m9TvbE9nzj8l",
        "outputId": "2799cf5a-2e7d-4753-9a93-3422a2626e72"
      },
      "execution_count": null,
      "outputs": [
        {
          "output_type": "display_data",
          "data": {
            "text/plain": [
              "<Figure size 800x800 with 1 Axes>"
            ],
            "image/png": "[encoded data removed]"
          },
          "metadata": {}
        }
      ]
    },
    {
      "cell_type": "code",
      "source": [
        "x_tet=tf.image.resize(x_test, (200, 200))\n",
        "plt.imshow( x_tet[5])"
      ],
      "metadata": {
        "id": "2-LOioYaeOF3"
      },
      "execution_count": null,
      "outputs": []
    },
    {
      "cell_type": "code",
      "source": [
        "tf.experimental.numpy.experimental_enable_numpy_behavior()"
      ],
      "metadata": {
        "id": "8HzOUH9p9D6x"
      },
      "execution_count": null,
      "outputs": []
    },
    {
      "cell_type": "code",
      "source": [
        "\n",
        "pred=model.predict(x_test[4].reshape(1,32,32,3))\n",
        "predicted_class = np.argmax(pred)\n",
        "print(predicted_class)"
      ],
      "metadata": {
        "colab": {
          "base_uri": "https://localhost:8080/"
        },
        "id": "WWIRoHmFCK1A",
        "outputId": "0e06f4b0-c8af-4f37-896c-921665ee3afe"
      },
      "execution_count": null,
      "outputs": [
        {
          "output_type": "stream",
          "name": "stdout",
          "text": [
            "1/1 [==============================] - 0s 24ms/step\n",
            "20\n"
          ]
        }
      ]
    }
  ]
}